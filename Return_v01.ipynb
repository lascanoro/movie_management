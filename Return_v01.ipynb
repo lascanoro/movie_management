{
 "cells": [
  {
   "cell_type": "code",
   "execution_count": null,
   "metadata": {},
   "outputs": [],
   "source": [
    "import pandas as pd\n",
    "\n",
    "# Create an empty DataFrame for borrowing records with the specified columns\n",
    "borrowing_records = pd.DataFrame(columns=['user id', 'movie ids', 'borrow_date'])\n",
    "\n",
    "# Display the empty DataFrame\n",
    "print(borrowing_records.head())\n",
    "\n",
    "\n"
   ]
  },
  {
   "cell_type": "code",
   "execution_count": 5,
   "metadata": {},
   "outputs": [],
   "source": [
    "# Function to return a borrowed movie\n",
    "def return_movie(df_borrowing, df_movies, user_id, movie_id):\n",
    "    # Check if the user has borrowed the movie\n",
    "    user_borrowing = df_borrowing[(df_borrowing['user id'] == user_id) & (df_borrowing['movie ids'].str.contains(str(movie_id)))]\n",
    "    \n",
    "    if not user_borrowing.empty:\n",
    "        # Remove the movie ID from the 'movie ids' column\n",
    "        df_borrowing['movie ids'] = df_borrowing['movie ids'].apply(lambda ids: ','.join([id for id in ids.split(',') if id != str(movie_id)]))\n",
    "        \n",
    "        # Remove rows where all movies have been returned (empty 'movie ids')\n",
    "        df_borrowing = df_borrowing[df_borrowing['movie ids'] != '']\n",
    "        \n",
    "        print(f\"Movie with id {movie_id} has been returned by user {user_id}.\")\n",
    "    else:\n",
    "        print(f\"User {user_id} does not have movie with id {movie_id} borrowed.\")\n",
    "    \n",
    "    return df_borrowing\n"
   ]
  },
  {
   "cell_type": "code",
   "execution_count": 7,
   "metadata": {},
   "outputs": [],
   "source": [
    "def movie_return_menu(df_borrowing, df_movies):\n",
    "    while True:\n",
    "        print(\"\\n=== Movie Return Menu ===\")\n",
    "        print(\"1. Return a movie by movie ID\")\n",
    "        print(\"2. View current borrowing records\")\n",
    "        print(\"3. Exit\")\n",
    "        \n",
    "        option = input(\"Choose an option (1, 2, or 3): \")\n",
    "        \n",
    "        if option == '1':\n",
    "            user_id = int(input(\"Enter the user ID: \"))\n",
    "            movie_id = int(input(\"Enter the movie ID: \"))\n",
    "            \n",
    "            # Call the return_movie function to process the return\n",
    "            df_borrowing = return_movie(df_borrowing, df_movies, user_id, movie_id)\n",
    "        \n",
    "        elif option == '2':\n",
    "            print(\"\\n=== Current Borrowing Records ===\")\n",
    "            print(df_borrowing)\n",
    "        \n",
    "        elif option == '3':\n",
    "            print(\"Exiting the return system.\")\n",
    "            break\n",
    "        \n",
    "        else:\n",
    "            print(\"Invalid option. Please try again.\")\n",
    "    \n",
    "    return df_borrowing\n"
   ]
  },
  {
   "cell_type": "code",
   "execution_count": null,
   "metadata": {},
   "outputs": [],
   "source": [
    "# Simulate some borrowing records\n",
    "data_borrowing = {'user id': [1, 2],\n",
    "                  'movie ids': ['101,102', '103'],\n",
    "                  'borrow_date': ['2024-10-01', '2024-10-03']}\n",
    "\n",
    "borrowing_records = pd.DataFrame(data_borrowing)\n",
    "\n",
    "# Run the movie return menu\n",
    "updated_borrowing_records = movie_return_menu(borrowing_records, df_movies)\n",
    "\n",
    "# Display the updated borrowing records after processing returns\n",
    "print(\"\\n=== Updated Borrowing Records ===\")\n",
    "print(updated_borrowing_records)\n"
   ]
  }
 ],
 "metadata": {
  "kernelspec": {
   "display_name": "Python 3",
   "language": "python",
   "name": "python3"
  },
  "language_info": {
   "codemirror_mode": {
    "name": "ipython",
    "version": 3
   },
   "file_extension": ".py",
   "mimetype": "text/x-python",
   "name": "python",
   "nbconvert_exporter": "python",
   "pygments_lexer": "ipython3",
   "version": "3.12.6"
  }
 },
 "nbformat": 4,
 "nbformat_minor": 2
}
